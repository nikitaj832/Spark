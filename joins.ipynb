{
 "cells": [
  {
   "cell_type": "code",
   "execution_count": 0,
   "metadata": {
    "application/vnd.databricks.v1+cell": {
     "cellMetadata": {
      "byteLimit": 2048000,
      "rowLimit": 10000
     },
     "inputWidgets": {},
     "nuid": "51b5cb6f-67b9-46eb-9049-9114a1455763",
     "showTitle": false,
     "tableResultSettingsMap": {},
     "title": ""
    }
   },
   "outputs": [],
   "source": [
    "movie_df = spark.read.format(\"csv\").option(\"header\", \"True\").load(\"/Volumes/abc/upload_d/a_volume/movies.csv\",header =True,InferSchema =True)"
   ]
  },
  {
   "cell_type": "code",
   "execution_count": 0,
   "metadata": {
    "application/vnd.databricks.v1+cell": {
     "cellMetadata": {
      "byteLimit": 2048000,
      "rowLimit": 10000
     },
     "inputWidgets": {},
     "nuid": "37fe68b2-5dcc-4919-b50c-1b11741828b6",
     "showTitle": false,
     "tableResultSettingsMap": {},
     "title": ""
    }
   },
   "outputs": [],
   "source": [
    "rating_df = spark.read.format(\"csv\").option(\"header\",\"True\").load(\"/Volumes/abc/upload_d/a_volume/ratings.csv\",header=True,inferSchema =True)"
   ]
  },
  {
   "cell_type": "code",
   "execution_count": 0,
   "metadata": {
    "application/vnd.databricks.v1+cell": {
     "cellMetadata": {
      "byteLimit": 2048000,
      "rowLimit": 10000
     },
     "inputWidgets": {},
     "nuid": "46bd2a17-3d1f-49d2-892a-c6cf35eac82c",
     "showTitle": false,
     "tableResultSettingsMap": {},
     "title": ""
    }
   },
   "outputs": [
    {
     "output_type": "stream",
     "name": "stdout",
     "output_type": "stream",
     "text": [
      "+-------+--------------------+--------------------+\n|movieId|               title|              genres|\n+-------+--------------------+--------------------+\n|      1|    Toy Story (1995)|Adventure|Animati...|\n|      2|      Jumanji (1995)|Adventure|Childre...|\n|      3|Grumpier Old Men ...|      Comedy|Romance|\n|      4|Waiting to Exhale...|Comedy|Drama|Romance|\n+-------+--------------------+--------------------+\nonly showing top 4 rows\n"
     ]
    }
   ],
   "source": [
    "movie_df.show(4)"
   ]
  },
  {
   "cell_type": "code",
   "execution_count": 0,
   "metadata": {
    "application/vnd.databricks.v1+cell": {
     "cellMetadata": {
      "byteLimit": 2048000,
      "rowLimit": 10000
     },
     "inputWidgets": {},
     "nuid": "d8b8ee4f-a862-4b8f-9896-48a4cc74e9b6",
     "showTitle": false,
     "tableResultSettingsMap": {},
     "title": ""
    }
   },
   "outputs": [
    {
     "output_type": "stream",
     "name": "stdout",
     "output_type": "stream",
     "text": [
      "+------+-------+------+---------+\n|userId|movieId|rating|timestamp|\n+------+-------+------+---------+\n|     1|      1|   4.0|964982703|\n|     1|      3|   4.0|964981247|\n|     1|      6|   4.0|964982224|\n|     1|     47|   5.0|964983815|\n+------+-------+------+---------+\nonly showing top 4 rows\n"
     ]
    }
   ],
   "source": [
    "rating_df.show(4)"
   ]
  },
  {
   "cell_type": "code",
   "execution_count": 0,
   "metadata": {
    "application/vnd.databricks.v1+cell": {
     "cellMetadata": {
      "byteLimit": 2048000,
      "rowLimit": 10000
     },
     "inputWidgets": {},
     "nuid": "8c927ba9-e3ea-46fc-9eb2-1dff1f0d4b5a",
     "showTitle": false,
     "tableResultSettingsMap": {},
     "title": ""
    }
   },
   "outputs": [
    {
     "output_type": "stream",
     "name": "stdout",
     "output_type": "stream",
     "text": [
      "root\n |-- userId: integer (nullable = true)\n |-- movieId: integer (nullable = true)\n |-- rating: double (nullable = true)\n |-- timestamp: integer (nullable = true)\n\nroot\n |-- movieId: integer (nullable = true)\n |-- title: string (nullable = true)\n |-- genres: string (nullable = true)\n\n"
     ]
    }
   ],
   "source": [
    "rating_df.printSchema()\n",
    "movie_df.printSchema()"
   ]
  },
  {
   "cell_type": "code",
   "execution_count": 0,
   "metadata": {
    "application/vnd.databricks.v1+cell": {
     "cellMetadata": {
      "byteLimit": 2048000,
      "rowLimit": 10000
     },
     "inputWidgets": {},
     "nuid": "b67199cd-946d-4c32-be44-52739fd971e3",
     "showTitle": false,
     "tableResultSettingsMap": {},
     "title": ""
    }
   },
   "outputs": [],
   "source": [
    "from pyspark.sql.functions import col\n",
    "\n",
    "rating_df = rating_df.withColumn(\"movieId\", col(\"movieId\").cast(\"int\"))\n",
    "movie_df = movie_df.withColumn(\"movieId\", col(\"movieId\").cast(\"int\"))"
   ]
  },
  {
   "cell_type": "code",
   "execution_count": 0,
   "metadata": {
    "application/vnd.databricks.v1+cell": {
     "cellMetadata": {
      "byteLimit": 2048000,
      "rowLimit": 10000
     },
     "inputWidgets": {},
     "nuid": "2a4eb8e6-c5ae-43c9-9967-318c614959ab",
     "showTitle": false,
     "tableResultSettingsMap": {},
     "title": ""
    }
   },
   "outputs": [
    {
     "output_type": "stream",
     "name": "stdout",
     "output_type": "stream",
     "text": [
      "+-------+------+------+---------+--------------------+--------------------+\n|movieId|userId|rating|timestamp|               title|              genres|\n+-------+------+------+---------+--------------------+--------------------+\n|      1|     1|   4.0|964982703|    Toy Story (1995)|Adventure|Animati...|\n|      3|     1|   4.0|964981247|Grumpier Old Men ...|      Comedy|Romance|\n|      6|     1|   4.0|964982224|         Heat (1995)|Action|Crime|Thri...|\n|     47|     1|   5.0|964983815|Seven (a.k.a. Se7...|    Mystery|Thriller|\n|     50|     1|   5.0|964982931|Usual Suspects, T...|Crime|Mystery|Thr...|\n+-------+------+------+---------+--------------------+--------------------+\nonly showing top 5 rows\n"
     ]
    }
   ],
   "source": [
    "left_join_df = rating_df.join(movie_df, on=\"movieId\", how=\"left\")\n",
    "left_join_df.show(5)"
   ]
  },
  {
   "cell_type": "code",
   "execution_count": 0,
   "metadata": {
    "application/vnd.databricks.v1+cell": {
     "cellMetadata": {
      "byteLimit": 2048000,
      "rowLimit": 10000
     },
     "inputWidgets": {},
     "nuid": "533ae7e2-541f-42d7-b838-0e8f8345e581",
     "showTitle": false,
     "tableResultSettingsMap": {},
     "title": ""
    }
   },
   "outputs": [
    {
     "output_type": "stream",
     "name": "stdout",
     "output_type": "stream",
     "text": [
      "+-------+------+------+----------+----------------+--------------------+\n|movieId|userId|rating| timestamp|           title|              genres|\n+-------+------+------+----------+----------------+--------------------+\n|      1|     1|   4.0| 964982703|Toy Story (1995)|Adventure|Animati...|\n|      1|     5|   4.0| 847434962|Toy Story (1995)|Adventure|Animati...|\n|      1|     7|   4.5|1106635946|Toy Story (1995)|Adventure|Animati...|\n|      1|    15|   2.5|1510577970|Toy Story (1995)|Adventure|Animati...|\n|      1|    17|   4.5|1305696483|Toy Story (1995)|Adventure|Animati...|\n+-------+------+------+----------+----------------+--------------------+\nonly showing top 5 rows\n"
     ]
    }
   ],
   "source": [
    "right_join_df = rating_df.join(movie_df, on=\"movieId\", how=\"right\")\n",
    "right_join_df.show(5)"
   ]
  },
  {
   "cell_type": "code",
   "execution_count": 0,
   "metadata": {
    "application/vnd.databricks.v1+cell": {
     "cellMetadata": {
      "byteLimit": 2048000,
      "rowLimit": 10000
     },
     "inputWidgets": {},
     "nuid": "9edb9d8e-ca6e-4a34-9e9f-ebd99f367452",
     "showTitle": false,
     "tableResultSettingsMap": {},
     "title": ""
    }
   },
   "outputs": [],
   "source": [
    "# extracting year\n",
    "from pyspark.sql.functions import from_unixtime, year\n",
    "rating_df = rating_df.withColumn(\"datetime\", from_unixtime(\"timestamp\"))\n",
    "rating_df = rating_df.withColumn(\"year\", year(\"datetime\"))"
   ]
  },
  {
   "cell_type": "code",
   "execution_count": 0,
   "metadata": {
    "application/vnd.databricks.v1+cell": {
     "cellMetadata": {
      "byteLimit": 2048000,
      "rowLimit": 10000
     },
     "inputWidgets": {},
     "nuid": "06f8dc41-8b3b-4833-9fde-876c0ea48246",
     "showTitle": false,
     "tableResultSettingsMap": {},
     "title": ""
    }
   },
   "outputs": [
    {
     "output_type": "stream",
     "name": "stdout",
     "output_type": "stream",
     "text": [
      "+------+-------+------+---------+-------------------+----+\n|userId|movieId|rating|timestamp|           datetime|year|\n+------+-------+------+---------+-------------------+----+\n|     1|      1|   4.0|964982703|2000-07-30 18:45:03|2000|\n|     1|      3|   4.0|964981247|2000-07-30 18:20:47|2000|\n|     1|      6|   4.0|964982224|2000-07-30 18:37:04|2000|\n|     1|     47|   5.0|964983815|2000-07-30 19:03:35|2000|\n|     1|     50|   5.0|964982931|2000-07-30 18:48:51|2000|\n+------+-------+------+---------+-------------------+----+\nonly showing top 5 rows\n"
     ]
    }
   ],
   "source": [
    "rating_df.show(5)"
   ]
  },
  {
   "cell_type": "code",
   "execution_count": 0,
   "metadata": {
    "application/vnd.databricks.v1+cell": {
     "cellMetadata": {
      "byteLimit": 2048000,
      "rowLimit": 10000
     },
     "inputWidgets": {},
     "nuid": "445221e8-13cb-4c51-b45b-7f3de94aa80a",
     "showTitle": false,
     "tableResultSettingsMap": {},
     "title": ""
    }
   },
   "outputs": [
    {
     "output_type": "stream",
     "name": "stdout",
     "output_type": "stream",
     "text": [
      "+----+\n|year|\n+----+\n|2000|\n|2000|\n|2000|\n|2000|\n|2000|\n|2000|\n|2000|\n+----+\nonly showing top 7 rows\n"
     ]
    }
   ],
   "source": [
    "rating_df.select(\"year\").show(7)"
   ]
  },
  {
   "cell_type": "code",
   "execution_count": 0,
   "metadata": {
    "application/vnd.databricks.v1+cell": {
     "cellMetadata": {},
     "inputWidgets": {},
     "nuid": "96f6b172-d479-4d06-810f-b653f82ecc1b",
     "showTitle": false,
     "tableResultSettingsMap": {},
     "title": ""
    }
   },
   "outputs": [],
   "source": []
  }
 ],
 "metadata": {
  "application/vnd.databricks.v1+notebook": {
   "computePreferences": null,
   "dashboards": [],
   "environmentMetadata": {
    "base_environment": "",
    "environment_version": "2"
   },
   "inputWidgetPreferences": null,
   "language": "python",
   "notebookMetadata": {
    "pythonIndentUnit": 4
   },
   "notebookName": "joins",
   "widgets": {}
  },
  "language_info": {
   "name": "python"
  }
 },
 "nbformat": 4,
 "nbformat_minor": 0
}