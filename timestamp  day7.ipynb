{
 "cells": [
  {
   "cell_type": "code",
   "execution_count": 0,
   "metadata": {
    "application/vnd.databricks.v1+cell": {
     "cellMetadata": {
      "byteLimit": 2048000,
      "rowLimit": 10000
     },
     "inputWidgets": {},
     "nuid": "c42ae740-7314-4584-b7bd-17e884896943",
     "showTitle": false,
     "tableResultSettingsMap": {},
     "title": ""
    }
   },
   "outputs": [],
   "source": [
    "df = spark.read.format(\"csv\").option(\"header\",\"True\").load(\"/Volumes/abc/upload_d/a_volume/ratings.csv\",header=True,inferSchema =True)"
   ]
  },
  {
   "cell_type": "code",
   "execution_count": 0,
   "metadata": {
    "application/vnd.databricks.v1+cell": {
     "cellMetadata": {
      "byteLimit": 2048000,
      "rowLimit": 10000
     },
     "inputWidgets": {},
     "nuid": "311bd16f-afef-4b92-92bf-535e8c26c728",
     "showTitle": false,
     "tableResultSettingsMap": {},
     "title": ""
    }
   },
   "outputs": [
    {
     "output_type": "stream",
     "name": "stdout",
     "output_type": "stream",
     "text": [
      "+------+-------+------+---------+\n|userId|movieId|rating|timestamp|\n+------+-------+------+---------+\n|     1|      1|   4.0|964982703|\n|     1|      3|   4.0|964981247|\n|     1|      6|   4.0|964982224|\n|     1|     47|   5.0|964983815|\n|     1|     50|   5.0|964982931|\n|     1|     70|   3.0|964982400|\n|     1|    101|   5.0|964980868|\n|     1|    110|   4.0|964982176|\n|     1|    151|   5.0|964984041|\n|     1|    157|   5.0|964984100|\n|     1|    163|   5.0|964983650|\n|     1|    216|   5.0|964981208|\n|     1|    223|   3.0|964980985|\n|     1|    231|   5.0|964981179|\n|     1|    235|   4.0|964980908|\n|     1|    260|   5.0|964981680|\n|     1|    296|   3.0|964982967|\n|     1|    316|   3.0|964982310|\n|     1|    333|   5.0|964981179|\n|     1|    349|   4.0|964982563|\n+------+-------+------+---------+\nonly showing top 20 rows\n"
     ]
    }
   ],
   "source": [
    "df.show()"
   ]
  },
  {
   "cell_type": "code",
   "execution_count": 0,
   "metadata": {
    "application/vnd.databricks.v1+cell": {
     "cellMetadata": {
      "byteLimit": 2048000,
      "rowLimit": 10000
     },
     "inputWidgets": {},
     "nuid": "29b6dc42-bf6d-429b-b45f-6fbfbc1e0017",
     "showTitle": false,
     "tableResultSettingsMap": {},
     "title": ""
    }
   },
   "outputs": [
    {
     "output_type": "stream",
     "name": "stdout",
     "output_type": "stream",
     "text": [
      "+------+-------+------+-------------------+\n|userId|movieId|rating|          timestamp|\n+------+-------+------+-------------------+\n|     1|      1|   4.0|2000-07-30 18:45:03|\n|     1|      3|   4.0|2000-07-30 18:20:47|\n|     1|      6|   4.0|2000-07-30 18:37:04|\n|     1|     47|   5.0|2000-07-30 19:03:35|\n|     1|     50|   5.0|2000-07-30 18:48:51|\n|     1|     70|   3.0|2000-07-30 18:40:00|\n|     1|    101|   5.0|2000-07-30 18:14:28|\n|     1|    110|   4.0|2000-07-30 18:36:16|\n|     1|    151|   5.0|2000-07-30 19:07:21|\n|     1|    157|   5.0|2000-07-30 19:08:20|\n|     1|    163|   5.0|2000-07-30 19:00:50|\n|     1|    216|   5.0|2000-07-30 18:20:08|\n|     1|    223|   3.0|2000-07-30 18:16:25|\n|     1|    231|   5.0|2000-07-30 18:19:39|\n|     1|    235|   4.0|2000-07-30 18:15:08|\n|     1|    260|   5.0|2000-07-30 18:28:00|\n|     1|    296|   3.0|2000-07-30 18:49:27|\n|     1|    316|   3.0|2000-07-30 18:38:30|\n|     1|    333|   5.0|2000-07-30 18:19:39|\n|     1|    349|   4.0|2000-07-30 18:42:43|\n+------+-------+------+-------------------+\nonly showing top 20 rows\n"
     ]
    }
   ],
   "source": [
    "import pyspark.sql.functions as f\n",
    "df.withColumn(\"timestamp\",f.from_unixtime(f.col(\"timestamp\"))) \\\n",
    "    .withColumn(\"timestamp\",f.to_timestamp(f.col(\"timestamp\"))).show()"
   ]
  },
  {
   "cell_type": "code",
   "execution_count": 0,
   "metadata": {
    "application/vnd.databricks.v1+cell": {
     "cellMetadata": {
      "byteLimit": 2048000,
      "rowLimit": 10000
     },
     "inputWidgets": {},
     "nuid": "15ad3bec-8869-4f81-ac9b-f8071d2d0503",
     "showTitle": false,
     "tableResultSettingsMap": {},
     "title": ""
    }
   },
   "outputs": [
    {
     "output_type": "stream",
     "name": "stdout",
     "output_type": "stream",
     "text": [
      "+---------------+\n|adjusted-rating|\n+---------------+\n|            9.0|\n|            9.0|\n+---------------+\nonly showing top 2 rows\n"
     ]
    }
   ],
   "source": [
    "df.select((f.col(\"rating\")+5).alias(\"adjusted-rating\")).show(2)\n",
    "\n",
    "\n",
    "                          "
   ]
  },
  {
   "cell_type": "code",
   "execution_count": 0,
   "metadata": {
    "application/vnd.databricks.v1+cell": {
     "cellMetadata": {
      "byteLimit": 2048000,
      "rowLimit": 10000
     },
     "inputWidgets": {},
     "nuid": "57b7f25d-4aa9-47e3-958e-42dff5c84b85",
     "showTitle": false,
     "tableResultSettingsMap": {},
     "title": ""
    }
   },
   "outputs": [
    {
     "output_type": "stream",
     "name": "stdout",
     "output_type": "stream",
     "text": [
      "+---------------+\n|adjusted_rating|\n+---------------+\n|            9.0|\n|            9.0|\n+---------------+\nonly showing top 2 rows\n"
     ]
    }
   ],
   "source": [
    "df.selectExpr('rating+5 AS adjusted_rating').show(2)  "
   ]
  },
  {
   "cell_type": "code",
   "execution_count": 0,
   "metadata": {
    "application/vnd.databricks.v1+cell": {
     "cellMetadata": {
      "byteLimit": 2048000,
      "rowLimit": 10000
     },
     "inputWidgets": {},
     "nuid": "de1b00cd-aea7-4ff5-85d5-5cf19ae33d22",
     "showTitle": false,
     "tableResultSettingsMap": {},
     "title": ""
    }
   },
   "outputs": [
    {
     "output_type": "stream",
     "name": "stdout",
     "output_type": "stream",
     "text": [
      "+-----------+\n|sum(rating)|\n+-----------+\n|   353083.0|\n+-----------+\n\n"
     ]
    }
   ],
   "source": [
    "df.select(f.sum(\"rating\")).show(4)\n"
   ]
  },
  {
   "cell_type": "code",
   "execution_count": 0,
   "metadata": {
    "application/vnd.databricks.v1+cell": {
     "cellMetadata": {
      "byteLimit": 2048000,
      "rowLimit": 10000
     },
     "inputWidgets": {},
     "nuid": "78ee8aa9-d921-455f-856d-2b5313f01787",
     "showTitle": false,
     "tableResultSettingsMap": {},
     "title": ""
    }
   },
   "outputs": [
    {
     "output_type": "stream",
     "name": "stdout",
     "output_type": "stream",
     "text": [
      "+------+-----+\n|rating|count|\n+------+-----+\n|   4.5| 8551|\n|   1.0| 2811|\n|   3.5|13136|\n|   4.0|26818|\n|   5.0|13211|\n|   1.5| 1791|\n|   0.5| 1370|\n|   2.0| 7551|\n|   3.0|20047|\n|   2.5| 5550|\n+------+-----+\n\n"
     ]
    }
   ],
   "source": [
    "df.groupBy(\"rating\").count().show()\n"
   ]
  },
  {
   "cell_type": "code",
   "execution_count": 0,
   "metadata": {
    "application/vnd.databricks.v1+cell": {
     "cellMetadata": {
      "byteLimit": 2048000,
      "rowLimit": 10000
     },
     "inputWidgets": {},
     "nuid": "c4c1cc91-d8e2-47c5-b676-181cde0aeab7",
     "showTitle": false,
     "tableResultSettingsMap": {},
     "title": ""
    }
   },
   "outputs": [
    {
     "output_type": "stream",
     "name": "stdout",
     "output_type": "stream",
     "text": [
      "+------+-----------+-------------+\n|rating|sum(rating)|count(rating)|\n+------+-----------+-------------+\n|   4.5|    38479.5|         8551|\n|   1.0|     2811.0|         2811|\n|   3.5|    45976.0|        13136|\n|   4.0|   107272.0|        26818|\n|   5.0|    66055.0|        13211|\n|   1.5|     2686.5|         1791|\n|   0.5|      685.0|         1370|\n|   2.0|    15102.0|         7551|\n|   3.0|    60141.0|        20047|\n|   2.5|    13875.0|         5550|\n+------+-----------+-------------+\n\n"
     ]
    }
   ],
   "source": [
    "df.groupBy(\"rating\").agg(f.sum(\"rating\"),f.count(\"rating\")).show()"
   ]
  },
  {
   "cell_type": "code",
   "execution_count": 0,
   "metadata": {
    "application/vnd.databricks.v1+cell": {
     "cellMetadata": {},
     "inputWidgets": {},
     "nuid": "2cb48653-a47d-42a3-89a7-e34a7ac22eb8",
     "showTitle": false,
     "tableResultSettingsMap": {},
     "title": ""
    }
   },
   "outputs": [],
   "source": []
  }
 ],
 "metadata": {
  "application/vnd.databricks.v1+notebook": {
   "computePreferences": null,
   "dashboards": [],
   "environmentMetadata": {
    "base_environment": "",
    "environment_version": "2"
   },
   "inputWidgetPreferences": null,
   "language": "python",
   "notebookMetadata": {
    "pythonIndentUnit": 4
   },
   "notebookName": "timestamp  day7",
   "widgets": {}
  },
  "language_info": {
   "name": "python"
  }
 },
 "nbformat": 4,
 "nbformat_minor": 0
}