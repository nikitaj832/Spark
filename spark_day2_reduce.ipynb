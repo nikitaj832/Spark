{
 "cells": [
  {
   "cell_type": "code",
   "execution_count": 0,
   "metadata": {
    "application/vnd.databricks.v1+cell": {
     "cellMetadata": {
      "byteLimit": 2048000,
      "rowLimit": 10000
     },
     "inputWidgets": {},
     "nuid": "a3a79fe9-0b30-4717-a12e-dc5b8d33d71f",
     "showTitle": false,
     "tableResultSettingsMap": {},
     "title": ""
    }
   },
   "outputs": [],
   "source": [
    "from pyspark import SparkContext,SparkConf"
   ]
  },
  {
   "cell_type": "code",
   "execution_count": 0,
   "metadata": {
    "application/vnd.databricks.v1+cell": {
     "cellMetadata": {
      "byteLimit": 2048000,
      "rowLimit": 10000
     },
     "inputWidgets": {},
     "nuid": "d86833cc-4e95-4858-a816-6682bb643ad5",
     "showTitle": false,
     "tableResultSettingsMap": {},
     "title": ""
    }
   },
   "outputs": [
    {
     "output_type": "stream",
     "name": "stdout",
     "output_type": "stream",
     "text": [
      "Out[2]: [['hey', 'hello'], ['niki']]"
     ]
    }
   ],
   "source": [
    "data = [\"hey hello\",\"niki\"]\n",
    "rdd =sc.parallelize(data)\n",
    "rdd.map(lambda x : x.split(\" \")).collect()"
   ]
  },
  {
   "cell_type": "code",
   "execution_count": 0,
   "metadata": {
    "application/vnd.databricks.v1+cell": {
     "cellMetadata": {
      "byteLimit": 2048000,
      "rowLimit": 10000
     },
     "inputWidgets": {},
     "nuid": "397ec6b7-135d-4354-a8b5-c50841ea97d7",
     "showTitle": false,
     "tableResultSettingsMap": {},
     "title": ""
    }
   },
   "outputs": [
    {
     "output_type": "stream",
     "name": "stdout",
     "output_type": "stream",
     "text": [
      "Out[5]: ['hey', 'hello', 'niki']"
     ]
    }
   ],
   "source": [
    "rdd.flatMap(lambda x : x.split(\" \")).collect()"
   ]
  },
  {
   "cell_type": "code",
   "execution_count": 0,
   "metadata": {
    "application/vnd.databricks.v1+cell": {
     "cellMetadata": {
      "byteLimit": 2048000,
      "rowLimit": 10000
     },
     "inputWidgets": {},
     "nuid": "78696914-e293-4b85-a3b6-71a291e39452",
     "showTitle": false,
     "tableResultSettingsMap": {},
     "title": ""
    }
   },
   "outputs": [
    {
     "output_type": "display_data",
     "data": {
      "text/plain": [
       "\u001B[0;31m---------------------------------------------------------------------------\u001B[0m\n",
       "\u001B[0;31mAttributeError\u001B[0m                            Traceback (most recent call last)\n",
       "File \u001B[0;32m<command-273431791227622>:3\u001B[0m\n",
       "\u001B[1;32m      1\u001B[0m \u001B[38;5;66;03m#reduce\u001B[39;00m\n",
       "\u001B[1;32m      2\u001B[0m rdd \u001B[38;5;241m=\u001B[39msc\u001B[38;5;241m.\u001B[39mparallelize([\u001B[38;5;241m10\u001B[39m,\u001B[38;5;241m20\u001B[39m,\u001B[38;5;241m30\u001B[39m,\u001B[38;5;241m40\u001B[39m,\u001B[38;5;241m50\u001B[39m])\n",
       "\u001B[0;32m----> 3\u001B[0m rdd\u001B[38;5;241m.\u001B[39mreduce(\u001B[38;5;28;01mlambda\u001B[39;00m x,y: x\u001B[38;5;241m+\u001B[39my)\u001B[38;5;241m.\u001B[39mtake(\u001B[38;5;241m1\u001B[39m)\n",
       "\n",
       "\u001B[0;31mAttributeError\u001B[0m: 'int' object has no attribute 'take'"
      ]
     },
     "metadata": {
      "application/vnd.databricks.v1+output": {
       "arguments": {},
       "data": "\u001B[0;31m---------------------------------------------------------------------------\u001B[0m\n\u001B[0;31mAttributeError\u001B[0m                            Traceback (most recent call last)\nFile \u001B[0;32m<command-273431791227622>:3\u001B[0m\n\u001B[1;32m      1\u001B[0m \u001B[38;5;66;03m#reduce\u001B[39;00m\n\u001B[1;32m      2\u001B[0m rdd \u001B[38;5;241m=\u001B[39msc\u001B[38;5;241m.\u001B[39mparallelize([\u001B[38;5;241m10\u001B[39m,\u001B[38;5;241m20\u001B[39m,\u001B[38;5;241m30\u001B[39m,\u001B[38;5;241m40\u001B[39m,\u001B[38;5;241m50\u001B[39m])\n\u001B[0;32m----> 3\u001B[0m rdd\u001B[38;5;241m.\u001B[39mreduce(\u001B[38;5;28;01mlambda\u001B[39;00m x,y: x\u001B[38;5;241m+\u001B[39my)\u001B[38;5;241m.\u001B[39mtake(\u001B[38;5;241m1\u001B[39m)\n\n\u001B[0;31mAttributeError\u001B[0m: 'int' object has no attribute 'take'",
       "errorSummary": "<span class='ansi-red-fg'>AttributeError</span>: 'int' object has no attribute 'take'",
       "errorTraceType": "ansi",
       "metadata": {},
       "type": "ipynbError"
      }
     },
     "output_type": "display_data"
    }
   ],
   "source": [
    "#reduce\n",
    "rdd =sc.parallelize([10,20,30,40,50])\n",
    "rdd.reduce(lambda x,y: x+y).take(1)       # reduce kbhi take nhi lgega"
   ]
  },
  {
   "cell_type": "code",
   "execution_count": 0,
   "metadata": {
    "application/vnd.databricks.v1+cell": {
     "cellMetadata": {
      "byteLimit": 2048000,
      "rowLimit": 10000
     },
     "inputWidgets": {},
     "nuid": "41c8db33-dd7e-43af-be7c-793ceb41cf00",
     "showTitle": false,
     "tableResultSettingsMap": {},
     "title": ""
    }
   },
   "outputs": [
    {
     "output_type": "stream",
     "name": "stdout",
     "output_type": "stream",
     "text": [
      "Out[7]: 150"
     ]
    }
   ],
   "source": [
    "#reduce\n",
    "rdd =sc.parallelize([10,20,30,40,50])\n",
    "rdd.reduce(lambda x,y: x+y) "
   ]
  },
  {
   "cell_type": "code",
   "execution_count": 0,
   "metadata": {
    "application/vnd.databricks.v1+cell": {
     "cellMetadata": {
      "byteLimit": 2048000,
      "rowLimit": 10000
     },
     "inputWidgets": {},
     "nuid": "bdc6156f-42c3-4e76-b764-b5c57e62d4b2",
     "showTitle": false,
     "tableResultSettingsMap": {},
     "title": ""
    }
   },
   "outputs": [
    {
     "output_type": "stream",
     "name": "stdout",
     "output_type": "stream",
     "text": [
      "Out[8]: 12000000"
     ]
    }
   ],
   "source": [
    "rdd =sc.parallelize([10,20,30,40,50])\n",
    "rdd.reduce(lambda x,y: x*y) "
   ]
  },
  {
   "cell_type": "code",
   "execution_count": 0,
   "metadata": {
    "application/vnd.databricks.v1+cell": {
     "cellMetadata": {
      "byteLimit": 2048000,
      "rowLimit": 10000
     },
     "inputWidgets": {},
     "nuid": "dda9133a-1432-45f3-bbbd-db08321bb325",
     "showTitle": false,
     "tableResultSettingsMap": {},
     "title": ""
    }
   },
   "outputs": [
    {
     "output_type": "stream",
     "name": "stdout",
     "output_type": "stream",
     "text": [
      "Out[10]: 190"
     ]
    }
   ],
   "source": [
    "rdd =sc.parallelize([10,20,10,30,40,10,50,20])\n",
    "rdd.reduce(lambda x,y: x+y) "
   ]
  },
  {
   "cell_type": "code",
   "execution_count": 0,
   "metadata": {
    "application/vnd.databricks.v1+cell": {
     "cellMetadata": {
      "byteLimit": 2048000,
      "rowLimit": 10000
     },
     "inputWidgets": {},
     "nuid": "5672a012-dd2c-402d-ac36-b42445ba972f",
     "showTitle": false,
     "tableResultSettingsMap": {},
     "title": ""
    }
   },
   "outputs": [],
   "source": [
    "rdd =sc.parallelize([10,20,10,30,40,10,50,20])\n",
    "rdd2 = rdd.map(lambda x: (x,1))"
   ]
  },
  {
   "cell_type": "code",
   "execution_count": 0,
   "metadata": {
    "application/vnd.databricks.v1+cell": {
     "cellMetadata": {
      "byteLimit": 2048000,
      "rowLimit": 10000
     },
     "inputWidgets": {},
     "nuid": "a4d0609d-a220-435d-b314-881223b23ee6",
     "showTitle": false,
     "tableResultSettingsMap": {},
     "title": ""
    }
   },
   "outputs": [
    {
     "output_type": "stream",
     "name": "stdout",
     "output_type": "stream",
     "text": [
      "Out[14]: [(10, 1), (20, 1), (10, 1), (30, 1), (40, 1), (10, 1), (50, 1), (20, 1)]"
     ]
    }
   ],
   "source": [
    "rdd2.collect()"
   ]
  },
  {
   "cell_type": "code",
   "execution_count": 0,
   "metadata": {
    "application/vnd.databricks.v1+cell": {
     "cellMetadata": {
      "byteLimit": 2048000,
      "rowLimit": 10000
     },
     "inputWidgets": {},
     "nuid": "e42af496-1c33-4049-90fa-499a5114e740",
     "showTitle": false,
     "tableResultSettingsMap": {},
     "title": ""
    }
   },
   "outputs": [
    {
     "output_type": "stream",
     "name": "stdout",
     "output_type": "stream",
     "text": [
      "Out[17]: [(40, 1), (10, 3), (50, 1), (20, 2), (30, 1)]"
     ]
    }
   ],
   "source": [
    "rdd2.reduceByKey(lambda x,y:x+y).collect()"
   ]
  },
  {
   "cell_type": "code",
   "execution_count": 0,
   "metadata": {
    "application/vnd.databricks.v1+cell": {
     "cellMetadata": {
      "byteLimit": 2048000,
      "rowLimit": 10000
     },
     "inputWidgets": {},
     "nuid": "dec41c93-0649-481c-af7b-84c822a683f1",
     "showTitle": false,
     "tableResultSettingsMap": {},
     "title": ""
    }
   },
   "outputs": [],
   "source": [
    "rdd = sc.textFile(\"dbfs:/FileStore/shared_uploads/21embit039@mlvti.ac.in/name.txt\")"
   ]
  },
  {
   "cell_type": "code",
   "execution_count": 0,
   "metadata": {
    "application/vnd.databricks.v1+cell": {
     "cellMetadata": {
      "byteLimit": 2048000,
      "rowLimit": 10000
     },
     "inputWidgets": {},
     "nuid": "851b0890-9332-4fd0-ac38-e2488b4d6290",
     "showTitle": false,
     "tableResultSettingsMap": {},
     "title": ""
    }
   },
   "outputs": [
    {
     "output_type": "stream",
     "name": "stdout",
     "output_type": "stream",
     "text": [
      "Out[22]: ['1,a,jaipur,200',\n '2,Aman,goa.100',\n '3,naina,j&k,200',\n '4,mahak ,bhilwara,400']"
     ]
    }
   ],
   "source": [
    "rdd.collect()"
   ]
  },
  {
   "cell_type": "code",
   "execution_count": 0,
   "metadata": {
    "application/vnd.databricks.v1+cell": {
     "cellMetadata": {
      "byteLimit": 2048000,
      "rowLimit": 10000
     },
     "inputWidgets": {},
     "nuid": "32d5c96d-689b-4652-a4bd-674f073f680e",
     "showTitle": false,
     "tableResultSettingsMap": {},
     "title": ""
    }
   },
   "outputs": [
    {
     "output_type": "stream",
     "name": "stdout",
     "output_type": "stream",
     "text": [
      "Out[24]: [['1', 'a', 'jaipur', '200'],\n ['2', 'Aman', 'goa.100'],\n ['3', 'naina', 'j&k', '200'],\n ['4', 'mahak ', 'bhilwara', '400']]"
     ]
    }
   ],
   "source": [
    "rdd.map(lambda x: x.split(\",\")).collect()"
   ]
  },
  {
   "cell_type": "code",
   "execution_count": 0,
   "metadata": {
    "application/vnd.databricks.v1+cell": {
     "cellMetadata": {
      "byteLimit": 2048000,
      "rowLimit": 10000
     },
     "inputWidgets": {},
     "nuid": "ed635c71-4ca9-4c3a-a64e-ba5490933437",
     "showTitle": false,
     "tableResultSettingsMap": {},
     "title": ""
    }
   },
   "outputs": [
    {
     "output_type": "stream",
     "name": "stdout",
     "output_type": "stream",
     "text": [
      "Out[25]: ['1,a,jaipur,200']"
     ]
    }
   ],
   "source": [
    "rdd.filter(lambda x: x.split(\",\")[2]=='jaipur').collect()"
   ]
  },
  {
   "cell_type": "code",
   "execution_count": 0,
   "metadata": {
    "application/vnd.databricks.v1+cell": {
     "cellMetadata": {
      "byteLimit": 2048000,
      "rowLimit": 10000
     },
     "inputWidgets": {},
     "nuid": "d6270395-713b-446d-a004-88fa3b7ab05d",
     "showTitle": false,
     "tableResultSettingsMap": {},
     "title": ""
    }
   },
   "outputs": [
    {
     "output_type": "stream",
     "name": "stdout",
     "output_type": "stream",
     "text": [
      "Out[36]: [('jaipur', '200')]"
     ]
    }
   ],
   "source": [
    "rdd.filter(lambda x: x.split(\",\")[2]=='jaipur')\\\n",
    "    .map(lambda a: (a.split(\",\")[2] ,a.split(\",\")[3]))\\\n",
    "        .collect()"
   ]
  },
  {
   "cell_type": "code",
   "execution_count": 0,
   "metadata": {
    "application/vnd.databricks.v1+cell": {
     "cellMetadata": {},
     "inputWidgets": {},
     "nuid": "ddc5c4c8-cc70-45c8-a658-e8ae68a32733",
     "showTitle": false,
     "tableResultSettingsMap": {},
     "title": ""
    }
   },
   "outputs": [],
   "source": []
  }
 ],
 "metadata": {
  "application/vnd.databricks.v1+notebook": {
   "computePreferences": null,
   "dashboards": [],
   "environmentMetadata": {
    "base_environment": "",
    "environment_version": "1"
   },
   "inputWidgetPreferences": null,
   "language": "python",
   "notebookMetadata": {
    "pythonIndentUnit": 4
   },
   "notebookName": "spark_day2_reduce",
   "widgets": {}
  }
 },
 "nbformat": 4,
 "nbformat_minor": 0
}