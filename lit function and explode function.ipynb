{
 "cells": [
  {
   "cell_type": "code",
   "execution_count": 0,
   "metadata": {
    "application/vnd.databricks.v1+cell": {
     "cellMetadata": {
      "byteLimit": 2048000,
      "rowLimit": 10000
     },
     "inputWidgets": {},
     "nuid": "7bb5998b-424f-4030-94ca-179f66fa6c07",
     "showTitle": false,
     "tableResultSettingsMap": {},
     "title": ""
    }
   },
   "outputs": [],
   "source": [
    "from pyspark.sql.functions import lit"
   ]
  },
  {
   "cell_type": "code",
   "execution_count": 0,
   "metadata": {
    "application/vnd.databricks.v1+cell": {
     "cellMetadata": {
      "byteLimit": 2048000,
      "rowLimit": 10000
     },
     "inputWidgets": {},
     "nuid": "c3a55eee-26eb-4ed5-91b6-099eb8ef7018",
     "showTitle": false,
     "tableResultSettingsMap": {},
     "title": ""
    }
   },
   "outputs": [
    {
     "output_type": "stream",
     "name": "stdout",
     "output_type": "stream",
     "text": [
      "+------+-------+------+----------+\n|userId|movieId|rating| timestamp|\n+------+-------+------+----------+\n|     1|      1|   5.0|1260759144|\n|     1|      2|   3.0|1260759179|\n|     2|      1|   3.0|1260759181|\n+------+-------+------+----------+\n\n"
     ]
    }
   ],
   "source": [
    "df =spark.createDataFrame([(1, 1, 5.0, 1260759144), (1, 2, 3.0, 1260759179), (2, 1, 3.0, 1260759181)], ['userId', 'movieId', 'rating', 'timestamp'])\n",
    "df.show()"
   ]
  },
  {
   "cell_type": "code",
   "execution_count": 0,
   "metadata": {
    "application/vnd.databricks.v1+cell": {
     "cellMetadata": {
      "byteLimit": 2048000,
      "rowLimit": 10000
     },
     "inputWidgets": {},
     "nuid": "cca34d38-4bea-469f-863c-50b5d330afda",
     "showTitle": false,
     "tableResultSettingsMap": {},
     "title": ""
    }
   },
   "outputs": [
    {
     "output_type": "stream",
     "name": "stdout",
     "output_type": "stream",
     "text": [
      "+------+-------+------+----------+-------+\n|userId|movieId|rating| timestamp|country|\n+------+-------+------+----------+-------+\n|     1|      1|   5.0|1260759144|  India|\n|     1|      2|   3.0|1260759179|  India|\n|     2|      1|   3.0|1260759181|  India|\n+------+-------+------+----------+-------+\n\n"
     ]
    }
   ],
   "source": [
    "df_country =df.withColumn(\"country\", lit(\"India\"))\n",
    "df_country.show()"
   ]
  },
  {
   "cell_type": "code",
   "execution_count": 0,
   "metadata": {
    "application/vnd.databricks.v1+cell": {
     "cellMetadata": {
      "byteLimit": 2048000,
      "rowLimit": 10000
     },
     "inputWidgets": {},
     "nuid": "1945570f-e6e6-4493-877b-c4647aaee891",
     "showTitle": false,
     "tableResultSettingsMap": {},
     "title": ""
    }
   },
   "outputs": [
    {
     "output_type": "stream",
     "name": "stdout",
     "output_type": "stream",
     "text": [
      "+------+-------+------+----------+-------+\n|userId|movieId|rating| timestamp|country|\n+------+-------+------+----------+-------+\n|     1|      1|   5.0|1260759144|  India|\n|     1|      2|   3.0|1260759179|  India|\n|     2|      1|   3.0|1260759181|  India|\n+------+-------+------+----------+-------+\n\n"
     ]
    }
   ],
   "source": [
    "df =df.select(\"userId\", \"movieId\", \"rating\", \"timestamp\" ,lit(\"India\").alias(\"country\"))\n",
    "df.show()"
   ]
  },
  {
   "cell_type": "code",
   "execution_count": 0,
   "metadata": {
    "application/vnd.databricks.v1+cell": {
     "cellMetadata": {
      "byteLimit": 2048000,
      "rowLimit": 10000
     },
     "inputWidgets": {},
     "nuid": "d150810e-d2bf-46d8-83dd-e34f7953f308",
     "showTitle": false,
     "tableResultSettingsMap": {},
     "title": ""
    }
   },
   "outputs": [],
   "source": [
    "# explore function\n",
    "from pyspark.sql.functions import explode,col"
   ]
  },
  {
   "cell_type": "code",
   "execution_count": 0,
   "metadata": {
    "application/vnd.databricks.v1+cell": {
     "cellMetadata": {
      "byteLimit": 2048000,
      "rowLimit": 10000
     },
     "inputWidgets": {},
     "nuid": "002e6f70-01fd-4fd3-a0b5-22ae7b8f8d61",
     "showTitle": false,
     "tableResultSettingsMap": {},
     "title": ""
    }
   },
   "outputs": [],
   "source": [
    "data = [\n",
    "    (1, [\"apple\", \"banana\", \"mango\"]),\n",
    "    (2, [\"grape\", \"orange\"]),\n",
    "    (3, []),\n",
    "    (4,[\"cherry\"])\n",
    "]\n",
    "df = spark.createDataFrame(data, [\"id\", \"fruits\"])"
   ]
  },
  {
   "cell_type": "code",
   "execution_count": 0,
   "metadata": {
    "application/vnd.databricks.v1+cell": {
     "cellMetadata": {
      "byteLimit": 2048000,
      "rowLimit": 10000
     },
     "inputWidgets": {},
     "nuid": "7216b762-ce07-4c41-84fb-bb4ff98d2dd6",
     "showTitle": false,
     "tableResultSettingsMap": {},
     "title": ""
    }
   },
   "outputs": [
    {
     "output_type": "stream",
     "name": "stdout",
     "output_type": "stream",
     "text": [
      "+---+--------------------+\n| id|              fruits|\n+---+--------------------+\n|  1|[apple, banana, m...|\n|  2|     [grape, orange]|\n|  3|                  []|\n|  4|            [cherry]|\n+---+--------------------+\n\n"
     ]
    }
   ],
   "source": [
    "df.show()"
   ]
  },
  {
   "cell_type": "code",
   "execution_count": 0,
   "metadata": {
    "application/vnd.databricks.v1+cell": {
     "cellMetadata": {
      "byteLimit": 2048000,
      "rowLimit": 10000
     },
     "inputWidgets": {},
     "nuid": "3fab8372-f1ee-4dba-aeab-9776c44dfff8",
     "showTitle": false,
     "tableResultSettingsMap": {},
     "title": ""
    }
   },
   "outputs": [
    {
     "output_type": "stream",
     "name": "stdout",
     "output_type": "stream",
     "text": [
      "+---+--------------------+---------+\n| id|              fruits|exp_fruit|\n+---+--------------------+---------+\n|  1|[apple, banana, m...|    apple|\n|  1|[apple, banana, m...|   banana|\n|  1|[apple, banana, m...|    mango|\n|  2|     [grape, orange]|    grape|\n|  2|     [grape, orange]|   orange|\n|  4|            [cherry]|   cherry|\n+---+--------------------+---------+\n\n"
     ]
    }
   ],
   "source": [
    "df_ex= df.withColumn(\"exp_fruit\",explode(\"fruits\"))\n",
    "df_ex.show()"
   ]
  },
  {
   "cell_type": "code",
   "execution_count": 0,
   "metadata": {
    "application/vnd.databricks.v1+cell": {
     "cellMetadata": {},
     "inputWidgets": {},
     "nuid": "a87a760b-8a8c-41f7-a641-88bcbb34d76d",
     "showTitle": false,
     "tableResultSettingsMap": {},
     "title": ""
    }
   },
   "outputs": [],
   "source": []
  }
 ],
 "metadata": {
  "application/vnd.databricks.v1+notebook": {
   "computePreferences": null,
   "dashboards": [],
   "environmentMetadata": {
    "base_environment": "",
    "environment_version": "2"
   },
   "inputWidgetPreferences": null,
   "language": "python",
   "notebookMetadata": {
    "pythonIndentUnit": 4
   },
   "notebookName": "lit function and explode function",
   "widgets": {}
  },
  "language_info": {
   "name": "python"
  }
 },
 "nbformat": 4,
 "nbformat_minor": 0
}